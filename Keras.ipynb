{
 "cells": [
  {
   "cell_type": "code",
   "execution_count": 1,
   "metadata": {},
   "outputs": [
    {
     "name": "stderr",
     "output_type": "stream",
     "text": [
      "Using TensorFlow backend.\n"
     ]
    }
   ],
   "source": [
    "from keras.models import Sequential\n",
    "from keras.layers import Dense"
   ]
  },
  {
   "cell_type": "code",
   "execution_count": 2,
   "metadata": {},
   "outputs": [
    {
     "name": "stdout",
     "output_type": "stream",
     "text": [
      "WARNING:tensorflow:From c:\\users\\admin\\anaconda3\\envs\\tensorflow_env\\lib\\site-packages\\keras\\backend\\tensorflow_backend.py:74: The name tf.get_default_graph is deprecated. Please use tf.compat.v1.get_default_graph instead.\n",
      "\n"
     ]
    }
   ],
   "source": [
    "model=Sequential()"
   ]
  },
  {
   "cell_type": "code",
   "execution_count": 3,
   "metadata": {},
   "outputs": [
    {
     "name": "stdout",
     "output_type": "stream",
     "text": [
      "WARNING:tensorflow:From c:\\users\\admin\\anaconda3\\envs\\tensorflow_env\\lib\\site-packages\\keras\\backend\\tensorflow_backend.py:517: The name tf.placeholder is deprecated. Please use tf.compat.v1.placeholder instead.\n",
      "\n",
      "WARNING:tensorflow:From c:\\users\\admin\\anaconda3\\envs\\tensorflow_env\\lib\\site-packages\\keras\\backend\\tensorflow_backend.py:4138: The name tf.random_uniform is deprecated. Please use tf.random.uniform instead.\n",
      "\n"
     ]
    }
   ],
   "source": [
    "layer1=Dense(units=32,activation='relu',input_dim=30)\n",
    "model.add(layer1)\n",
    "model.add(Dense(units=16,activation='relu'))\n",
    "model.add(Dense(units=1,activation='sigmoid'))"
   ]
  },
  {
   "cell_type": "code",
   "execution_count": 4,
   "metadata": {},
   "outputs": [
    {
     "name": "stdout",
     "output_type": "stream",
     "text": [
      "WARNING:tensorflow:From c:\\users\\admin\\anaconda3\\envs\\tensorflow_env\\lib\\site-packages\\keras\\optimizers.py:790: The name tf.train.Optimizer is deprecated. Please use tf.compat.v1.train.Optimizer instead.\n",
      "\n",
      "WARNING:tensorflow:From c:\\users\\admin\\anaconda3\\envs\\tensorflow_env\\lib\\site-packages\\keras\\backend\\tensorflow_backend.py:3376: The name tf.log is deprecated. Please use tf.math.log instead.\n",
      "\n",
      "WARNING:tensorflow:From c:\\users\\admin\\anaconda3\\envs\\tensorflow_env\\lib\\site-packages\\tensorflow_core\\python\\ops\\nn_impl.py:183: where (from tensorflow.python.ops.array_ops) is deprecated and will be removed in a future version.\n",
      "Instructions for updating:\n",
      "Use tf.where in 2.0, which has the same broadcast rule as np.where\n"
     ]
    }
   ],
   "source": [
    "#compile the model\n",
    "model.compile(optimizer='adam',loss='binary_crossentropy',metrics=['accuracy'])"
   ]
  },
  {
   "cell_type": "code",
   "execution_count": 5,
   "metadata": {},
   "outputs": [],
   "source": [
    "from sklearn import datasets\n",
    "cancer=datasets.load_breast_cancer()\n",
    "from sklearn.model_selection import train_test_split\n",
    "\n",
    "x_train,x_test,y_train,y_test=train_test_split(cancer.data,cancer.target,test_size=0.2,random_state=0)\n",
    "\n",
    "from sklearn.preprocessing import StandardScaler\n",
    "\n",
    "sc=StandardScaler()\n",
    "x_train=sc.fit_transform(x_train)\n",
    "x_test=sc.transform(x_test)\n"
   ]
  },
  {
   "cell_type": "code",
   "execution_count": 6,
   "metadata": {},
   "outputs": [
    {
     "name": "stdout",
     "output_type": "stream",
     "text": [
      "WARNING:tensorflow:From c:\\users\\admin\\anaconda3\\envs\\tensorflow_env\\lib\\site-packages\\keras\\backend\\tensorflow_backend.py:986: The name tf.assign_add is deprecated. Please use tf.compat.v1.assign_add instead.\n",
      "\n",
      "WARNING:tensorflow:From c:\\users\\admin\\anaconda3\\envs\\tensorflow_env\\lib\\site-packages\\keras\\backend\\tensorflow_backend.py:973: The name tf.assign is deprecated. Please use tf.compat.v1.assign instead.\n",
      "\n",
      "WARNING:tensorflow:From c:\\users\\admin\\anaconda3\\envs\\tensorflow_env\\lib\\site-packages\\keras\\backend\\tensorflow_backend.py:2741: The name tf.Session is deprecated. Please use tf.compat.v1.Session instead.\n",
      "\n",
      "Epoch 1/30\n",
      "WARNING:tensorflow:From c:\\users\\admin\\anaconda3\\envs\\tensorflow_env\\lib\\site-packages\\keras\\backend\\tensorflow_backend.py:174: The name tf.get_default_session is deprecated. Please use tf.compat.v1.get_default_session instead.\n",
      "\n",
      "WARNING:tensorflow:From c:\\users\\admin\\anaconda3\\envs\\tensorflow_env\\lib\\site-packages\\keras\\backend\\tensorflow_backend.py:181: The name tf.ConfigProto is deprecated. Please use tf.compat.v1.ConfigProto instead.\n",
      "\n",
      "WARNING:tensorflow:From c:\\users\\admin\\anaconda3\\envs\\tensorflow_env\\lib\\site-packages\\keras\\backend\\tensorflow_backend.py:190: The name tf.global_variables is deprecated. Please use tf.compat.v1.global_variables instead.\n",
      "\n",
      "WARNING:tensorflow:From c:\\users\\admin\\anaconda3\\envs\\tensorflow_env\\lib\\site-packages\\keras\\backend\\tensorflow_backend.py:199: The name tf.is_variable_initialized is deprecated. Please use tf.compat.v1.is_variable_initialized instead.\n",
      "\n",
      "WARNING:tensorflow:From c:\\users\\admin\\anaconda3\\envs\\tensorflow_env\\lib\\site-packages\\keras\\backend\\tensorflow_backend.py:206: The name tf.variables_initializer is deprecated. Please use tf.compat.v1.variables_initializer instead.\n",
      "\n",
      "455/455 [==============================] - 2s 4ms/step - loss: 0.7656 - acc: 0.3758\n",
      "Epoch 2/30\n",
      "455/455 [==============================] - 0s 94us/step - loss: 0.6039 - acc: 0.5802\n",
      "Epoch 3/30\n",
      "455/455 [==============================] - 0s 123us/step - loss: 0.4858 - acc: 0.8725\n",
      "Epoch 4/30\n",
      "455/455 [==============================] - 0s 88us/step - loss: 0.3998 - acc: 0.9407\n",
      "Epoch 5/30\n",
      "455/455 [==============================] - 0s 96us/step - loss: 0.3337 - acc: 0.9516\n",
      "Epoch 6/30\n",
      "455/455 [==============================] - 0s 64us/step - loss: 0.2793 - acc: 0.9560\n",
      "Epoch 7/30\n",
      "455/455 [==============================] - 0s 77us/step - loss: 0.2355 - acc: 0.9582\n",
      "Epoch 8/30\n",
      "455/455 [==============================] - 0s 68us/step - loss: 0.2001 - acc: 0.9626\n",
      "Epoch 9/30\n",
      "455/455 [==============================] - 0s 82us/step - loss: 0.1737 - acc: 0.9626\n",
      "Epoch 10/30\n",
      "455/455 [==============================] - 0s 64us/step - loss: 0.1539 - acc: 0.9626\n",
      "Epoch 11/30\n",
      "455/455 [==============================] - 0s 90us/step - loss: 0.1383 - acc: 0.9648\n",
      "Epoch 12/30\n",
      "455/455 [==============================] - 0s 92us/step - loss: 0.1265 - acc: 0.9670\n",
      "Epoch 13/30\n",
      "455/455 [==============================] - 0s 90us/step - loss: 0.1162 - acc: 0.9692\n",
      "Epoch 14/30\n",
      "455/455 [==============================] - 0s 84us/step - loss: 0.1088 - acc: 0.9692\n",
      "Epoch 15/30\n",
      "455/455 [==============================] - 0s 70us/step - loss: 0.1023 - acc: 0.9692\n",
      "Epoch 16/30\n",
      "455/455 [==============================] - 0s 64us/step - loss: 0.0971 - acc: 0.9714\n",
      "Epoch 17/30\n",
      "455/455 [==============================] - 0s 70us/step - loss: 0.0922 - acc: 0.9714\n",
      "Epoch 18/30\n",
      "455/455 [==============================] - 0s 72us/step - loss: 0.0880 - acc: 0.9736\n",
      "Epoch 19/30\n",
      "455/455 [==============================] - 0s 96us/step - loss: 0.0843 - acc: 0.9758\n",
      "Epoch 20/30\n",
      "455/455 [==============================] - 0s 80us/step - loss: 0.0811 - acc: 0.9780\n",
      "Epoch 21/30\n",
      "455/455 [==============================] - 0s 169us/step - loss: 0.0783 - acc: 0.9780\n",
      "Epoch 22/30\n",
      "455/455 [==============================] - 0s 72us/step - loss: 0.0755 - acc: 0.9802\n",
      "Epoch 23/30\n",
      "455/455 [==============================] - 0s 79us/step - loss: 0.0733 - acc: 0.9802\n",
      "Epoch 24/30\n",
      "455/455 [==============================] - 0s 81us/step - loss: 0.0708 - acc: 0.9846\n",
      "Epoch 25/30\n",
      "455/455 [==============================] - 0s 68us/step - loss: 0.0686 - acc: 0.9868\n",
      "Epoch 26/30\n",
      "455/455 [==============================] - 0s 70us/step - loss: 0.0668 - acc: 0.9868\n",
      "Epoch 27/30\n",
      "455/455 [==============================] - 0s 66us/step - loss: 0.0651 - acc: 0.9868\n",
      "Epoch 28/30\n",
      "455/455 [==============================] - 0s 66us/step - loss: 0.0634 - acc: 0.9868\n",
      "Epoch 29/30\n",
      "455/455 [==============================] - 0s 68us/step - loss: 0.0620 - acc: 0.9868\n",
      "Epoch 30/30\n",
      "455/455 [==============================] - 0s 66us/step - loss: 0.0607 - acc: 0.9868\n"
     ]
    },
    {
     "data": {
      "text/plain": [
       "<keras.callbacks.History at 0x199d0396808>"
      ]
     },
     "execution_count": 6,
     "metadata": {},
     "output_type": "execute_result"
    }
   ],
   "source": [
    "model.fit(x_train,y_train,epochs=30,batch_size=50)"
   ]
  },
  {
   "cell_type": "code",
   "execution_count": 7,
   "metadata": {},
   "outputs": [
    {
     "name": "stdout",
     "output_type": "stream",
     "text": [
      "114/114 [==============================] - 0s 2ms/step\n"
     ]
    },
    {
     "data": {
      "text/plain": [
       "[0.10577519107283208, 0.9649122817474499]"
      ]
     },
     "execution_count": 7,
     "metadata": {},
     "output_type": "execute_result"
    }
   ],
   "source": [
    "#evaluate and predictions\n",
    "predictions=model.predict(x_test)\n",
    "score=model.evaluate(x_test,y_test)\n",
    "score"
   ]
  },
  {
   "cell_type": "code",
   "execution_count": null,
   "metadata": {},
   "outputs": [],
   "source": []
  }
 ],
 "metadata": {
  "kernelspec": {
   "display_name": "Python 3",
   "language": "python",
   "name": "python3"
  },
  "language_info": {
   "codemirror_mode": {
    "name": "ipython",
    "version": 3
   },
   "file_extension": ".py",
   "mimetype": "text/x-python",
   "name": "python",
   "nbconvert_exporter": "python",
   "pygments_lexer": "ipython3",
   "version": "3.7.6"
  }
 },
 "nbformat": 4,
 "nbformat_minor": 4
}
